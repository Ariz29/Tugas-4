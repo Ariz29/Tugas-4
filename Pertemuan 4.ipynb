{
 "cells": [
  {
   "cell_type": "markdown",
   "id": "9a4c6d79",
   "metadata": {},
   "source": [
    "## No 1"
   ]
  },
  {
   "cell_type": "code",
   "execution_count": 28,
   "id": "3eeb28dd",
   "metadata": {},
   "outputs": [
    {
     "name": "stdout",
     "output_type": "stream",
     "text": [
      "[0, 19, 23, 42]\n"
     ]
    }
   ],
   "source": [
    "list = [23,19,42,0]\n",
    "list.sort()\n",
    "print(list)"
   ]
  },
  {
   "cell_type": "markdown",
   "id": "0508cb4f",
   "metadata": {},
   "source": [
    "## No 2"
   ]
  },
  {
   "cell_type": "code",
   "execution_count": 29,
   "id": "ff0522b2",
   "metadata": {},
   "outputs": [
    {
     "name": "stdout",
     "output_type": "stream",
     "text": [
      "[42, 23, 19, 0]\n"
     ]
    }
   ],
   "source": [
    "list = [23,19,42,0]\n",
    "list.sort(reverse=True)\n",
    "print(list)"
   ]
  },
  {
   "cell_type": "markdown",
   "id": "e40ae785",
   "metadata": {},
   "source": [
    "## No 3"
   ]
  },
  {
   "cell_type": "code",
   "execution_count": 30,
   "id": "38c2a0cb",
   "metadata": {},
   "outputs": [
    {
     "name": "stdout",
     "output_type": "stream",
     "text": [
      "['first', 'second', 'third']\n"
     ]
    }
   ],
   "source": [
    "listm = ['first','second','third','first','second']\n",
    "print(listm[0:3])"
   ]
  },
  {
   "cell_type": "markdown",
   "id": "f5aec8b3",
   "metadata": {},
   "source": [
    "## No 4"
   ]
  },
  {
   "cell_type": "code",
   "execution_count": 31,
   "id": "37d201e0",
   "metadata": {},
   "outputs": [
    {
     "name": "stdout",
     "output_type": "stream",
     "text": [
      "[-23, -1, 0, 0, 7, 13, 25]\n"
     ]
    }
   ],
   "source": [
    "list1 = [13,7,-23,-1,0,25,0]\n",
    "list1.sort()\n",
    "print(list1)"
   ]
  },
  {
   "cell_type": "markdown",
   "id": "43ace35a",
   "metadata": {},
   "source": [
    "## No 5"
   ]
  },
  {
   "cell_type": "code",
   "execution_count": 32,
   "id": "5760500c",
   "metadata": {},
   "outputs": [
    {
     "name": "stdout",
     "output_type": "stream",
     "text": [
      "2\n"
     ]
    }
   ],
   "source": [
    "lists= ['abc', 'xyz', 'aba', '1221'] \n",
    "print(len([x for x in lists if (len(x) >= 2 and x[-1] == x[0])]))"
   ]
  },
  {
   "cell_type": "markdown",
   "id": "839de239",
   "metadata": {},
   "source": [
    "## No 6"
   ]
  },
  {
   "cell_type": "code",
   "execution_count": 35,
   "id": "4981ab9c",
   "metadata": {},
   "outputs": [
    {
     "name": "stdout",
     "output_type": "stream",
     "text": [
      "[4, 9, 16, 25, 36]\n"
     ]
    }
   ],
   "source": [
    "tarik_sis = []\n",
    " \n",
    "for n in range(2,7):\n",
    "    tarik_sis.append(n**2)\n",
    "     \n",
    "print(tarik_sis)"
   ]
  },
  {
   "cell_type": "code",
   "execution_count": null,
   "id": "c15584a2",
   "metadata": {},
   "outputs": [],
   "source": []
  }
 ],
 "metadata": {
  "kernelspec": {
   "display_name": "Python 3",
   "language": "python",
   "name": "python3"
  },
  "language_info": {
   "codemirror_mode": {
    "name": "ipython",
    "version": 3
   },
   "file_extension": ".py",
   "mimetype": "text/x-python",
   "name": "python",
   "nbconvert_exporter": "python",
   "pygments_lexer": "ipython3",
   "version": "3.8.8"
  }
 },
 "nbformat": 4,
 "nbformat_minor": 5
}
